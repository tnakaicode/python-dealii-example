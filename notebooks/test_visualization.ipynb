{
 "cells": [
  {
   "cell_type": "code",
   "execution_count": null,
   "metadata": {
    "pycharm": {
     "is_executing": false
    }
   },
   "outputs": [],
   "source": [
    "from pymor.basic import *\n",
    "set_defaults({'pymor.discretizers.builtin.gui.jupyter.get_visualizer.backend': 'py3js'})\n",
    "p = burgers_problem_2d()\n",
    "d, _ = discretize_instationary_fv(p, num_flux='simplified_engquist_osher', diameter=1/50, nt=100, num_values=10, grid_type=RectGrid)\n",
    "U = d.solve(2.)\n",
    "d.visualize(U)"
   ]
  }
 ],
 "metadata": {
  "kernelspec": {
   "display_name": "Python 3",
   "language": "python",
   "name": "python3"
  },
  "language_info": {
   "codemirror_mode": {
    "name": "ipython",
    "version": 3
   },
   "file_extension": ".py",
   "mimetype": "text/x-python",
   "name": "python",
   "nbconvert_exporter": "python",
   "pygments_lexer": "ipython3",
   "version": "3.7.3"
  }
 },
 "nbformat": 4,
 "nbformat_minor": 2
}
