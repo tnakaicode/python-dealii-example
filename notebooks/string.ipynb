{
 "cells": [
  {
   "cell_type": "raw",
   "metadata": {},
   "source": [
    "This file is part of the pyMOR project (http://www.pymor.org).\n",
    "Copyright 2013-2020 pyMOR developers and contributors. All rights reserved.\n",
    "License: BSD 2-Clause License (http://opensource.org/licenses/BSD-2-Clause)"
   ]
  },
  {
   "cell_type": "markdown",
   "metadata": {},
   "source": [
    "# String equation example"
   ]
  },
  {
   "cell_type": "markdown",
   "metadata": {},
   "source": [
    "## Analytic problem formulation\n",
    "\n",
    "We consider a vibrating string on the segment $[0, 1]$, fixed on both sides, with input $u$ and output $\\tilde{y}$ in the middle:\n",
    "$$\n",
    "\\begin{align*}\n",
    "    \\partial_{tt} \\xi(z, t) + d \\partial_t \\xi(z, t) - k \\partial_{zz} \\xi(z, t) & = \\delta(z - \\tfrac{1}{2}) u(t), & 0 < z < 1,\\ t > 0, \\\\\n",
    "    \\partial_z \\xi(0, t) & = 0, & t > 0, \\\\\n",
    "    \\partial_z \\xi(1, t) & = 0, & t > 0, \\\\\n",
    "    \\tilde{y}(t) & = \\xi(1/2, t), & t > 0.\n",
    "\\end{align*}\n",
    "$$\n",
    "\n",
    "## Semidiscretized formulation\n",
    "\n",
    "Using the finite volume method on the equidistant mesh $0 = z_1 < z_2 < \\ldots < z_{n + 1} = 1$, where $n = 2 n_2 - 1$, we obtain the semidiscretized formulation:\n",
    "$$\n",
    "\\begin{align*}\n",
    "    \\ddot{x}_i(t) + d \\dot{x}_i(t) - k \\frac{x_{i - 1}(t) - 2 x_i(t) + x_{i + 1}(t)}{h^2} & = \\frac{1}{h} \\delta_{i, n_2} u(t), & i = 1, 2, 3, \\ldots, n - 1, n, \\\\\n",
    "    x_0(t) & = 0, \\\\\n",
    "    x_{n + 1}(t) & = 0, \\\\\n",
    "    y(t) & = x_{n_2}(t),\n",
    "\\end{align*}\n",
    "$$\n",
    "where $h = \\frac{1}{n}$, $x_i(t) \\approx \\int_{z_i}^{z_{i + 1}} \\xi(z, t) \\, \\mathrm{d}z$, and $y(t) \\approx \\tilde{y}(t)$.\n",
    "\n",
    "Separating cases $i = 1$ and $i = n$ in the first equation, we find:\n",
    "$$\n",
    "\\begin{alignat*}{7}\n",
    "    \\ddot{x}_1(t) & + d \\dot{x}_1(t) && && + 2 k n^2 x_1(t) && - k n^2 x_2(t) && = 0, \\\\\n",
    "    \\ddot{x}_i(t) & + d \\dot{x}_i(t) && - k n^2 x_{i - 1}(t) && + 2 k n^2 x_i(t) && - k n^2 x_{i + 1}(t) && = n \\delta_{i, n_2} u(t), && \\quad i = 2, 3, \\ldots, n - 1, \\\\\n",
    "    \\ddot{x}_n(t) & + d \\dot{x}_n(t) && - k n^2 x_{n - 1}(t) && + 2 k n^2  x_n(t) && && = 0, \\\\\n",
    "    && && && && y(t) & = x_{n_2}(t).\n",
    "\\end{alignat*}\n",
    "$$"
   ]
  },
  {
   "cell_type": "markdown",
   "metadata": {},
   "source": [
    "## Import modules"
   ]
  },
  {
   "cell_type": "code",
   "execution_count": null,
   "metadata": {},
   "outputs": [],
   "source": [
    "import numpy as np\n",
    "import scipy.sparse as sps\n",
    "import matplotlib.pyplot as plt\n",
    "\n",
    "from pymor.core.config import config\n",
    "from pymor.models.iosys import SecondOrderModel\n",
    "from pymor.reductors.bt import BTReductor\n",
    "from pymor.reductors.h2 import IRKAReductor\n",
    "from pymor.reductors.sobt import (SOBTpReductor, SOBTvReductor, SOBTpvReductor, SOBTvpReductor,\n",
    "                                  SOBTfvReductor, SOBTReductor)\n",
    "from pymor.reductors.sor_irka import SORIRKAReductor\n",
    "\n",
    "from pymor.core.logger import set_log_levels\n",
    "set_log_levels({'pymor.algorithms.gram_schmidt.gram_schmidt': 'WARNING'})"
   ]
  },
  {
   "cell_type": "markdown",
   "metadata": {},
   "source": [
    "## Assemble $M$, $D$, $K$, $B$, $C_p$"
   ]
  },
  {
   "cell_type": "code",
   "execution_count": null,
   "metadata": {},
   "outputs": [],
   "source": [
    "n2 = 50\n",
    "n = 2 * n2 - 1  # dimension of the system\n",
    "\n",
    "d = 10  # damping\n",
    "k = 0.01   # stiffness\n",
    "\n",
    "M = sps.eye(n, format='csc')\n",
    "\n",
    "E = d * sps.eye(n, format='csc')\n",
    "\n",
    "K = sps.diags([n * [2 * k * n ** 2],\n",
    "               (n - 1) * [-k * n ** 2],\n",
    "               (n - 1) * [-k * n ** 2]],\n",
    "              [0, -1, 1],\n",
    "              format='csc')\n",
    "\n",
    "B = np.zeros((n, 1))\n",
    "B[n2 - 1, 0] = n\n",
    "\n",
    "Cp = np.zeros((1, n))\n",
    "Cp[0, n2 - 1] = 1"
   ]
  },
  {
   "cell_type": "markdown",
   "metadata": {},
   "source": [
    "## Second-order system"
   ]
  },
  {
   "cell_type": "code",
   "execution_count": null,
   "metadata": {},
   "outputs": [],
   "source": [
    "so_sys = SecondOrderModel.from_matrices(M, E, K, B, Cp)\n",
    "print(so_sys)"
   ]
  },
  {
   "cell_type": "code",
   "execution_count": null,
   "metadata": {},
   "outputs": [],
   "source": [
    "poles = so_sys.poles()\n",
    "fig, ax = plt.subplots()\n",
    "ax.plot(poles.real, poles.imag, '.')\n",
    "ax.set_title('System poles')\n",
    "#plot.sho()"
   ]
  },
  {
   "cell_type": "code",
   "execution_count": null,
   "metadata": {},
   "outputs": [],
   "source": [
    "w = np.logspace(-4, 2, 200)\n",
    "fig, ax = plt.subplots()\n",
    "so_sys.mag_plot(w, ax=ax)\n",
    "ax.set_title('Magnitude plot of the full model')\n",
    "#plot.sho()"
   ]
  },
  {
   "cell_type": "code",
   "execution_count": null,
   "metadata": {},
   "outputs": [],
   "source": [
    "psv = so_sys.psv()\n",
    "vsv = so_sys.vsv()\n",
    "pvsv = so_sys.pvsv()\n",
    "vpsv = so_sys.vpsv()\n",
    "fig, ax = plt.subplots(2, 2, figsize=(12, 8), sharey=True)\n",
    "ax[0, 0].semilogy(range(1, len(psv) + 1), psv, '.-')\n",
    "ax[0, 0].set_title('Position singular values')\n",
    "ax[0, 1].semilogy(range(1, len(vsv) + 1), vsv, '.-')\n",
    "ax[0, 1].set_title('Velocity singular values')\n",
    "ax[1, 0].semilogy(range(1, len(pvsv) + 1), pvsv, '.-')\n",
    "ax[1, 0].set_title('Position-velocity singular values')\n",
    "ax[1, 1].semilogy(range(1, len(vpsv) + 1), vpsv, '.-')\n",
    "ax[1, 1].set_title('Velocity-position singular values')\n",
    "#plot.sho()"
   ]
  },
  {
   "cell_type": "code",
   "execution_count": null,
   "metadata": {},
   "outputs": [],
   "source": [
    "print(f'H_2-norm of the full model:    {so_sys.h2_norm():e}')\n",
    "if config.HAVE_SLYCOT:\n",
    "    print(f'H_inf-norm of the full model:  {so_sys.hinf_norm():e}')\n",
    "print(f'Hankel-norm of the full model: {so_sys.hankel_norm():e}')"
   ]
  },
  {
   "cell_type": "markdown",
   "metadata": {},
   "source": [
    "## Position Second-Order Balanced Truncation (SOBTp)"
   ]
  },
  {
   "cell_type": "code",
   "execution_count": null,
   "metadata": {},
   "outputs": [],
   "source": [
    "r = 5\n",
    "sobtp_reductor = SOBTpReductor(so_sys)\n",
    "rom_sobtp = sobtp_reductor.reduce(r)"
   ]
  },
  {
   "cell_type": "code",
   "execution_count": null,
   "metadata": {},
   "outputs": [],
   "source": [
    "poles_rom_sobtp = rom_sobtp.poles()\n",
    "fig, ax = plt.subplots()\n",
    "ax.plot(poles_rom_sobtp.real, poles_rom_sobtp.imag, '.')\n",
    "ax.set_title(\"SOBTp reduced model's poles\")\n",
    "#plot.sho()"
   ]
  },
  {
   "cell_type": "code",
   "execution_count": null,
   "metadata": {},
   "outputs": [],
   "source": [
    "err_sobtp = so_sys - rom_sobtp\n",
    "print(f'SOBTp relative H_2-error:    {err_sobtp.h2_norm() / so_sys.h2_norm():e}')\n",
    "if config.HAVE_SLYCOT:\n",
    "    print(f'SOBTp relative H_inf-error:  {err_sobtp.hinf_norm() / so_sys.hinf_norm():e}')\n",
    "print(f'SOBTp relative Hankel-error: {err_sobtp.hankel_norm() / so_sys.hankel_norm():e}')"
   ]
  },
  {
   "cell_type": "code",
   "execution_count": null,
   "metadata": {},
   "outputs": [],
   "source": [
    "fig, ax = plt.subplots()\n",
    "so_sys.mag_plot(w, ax=ax)\n",
    "rom_sobtp.mag_plot(w, ax=ax, linestyle='dashed')\n",
    "ax.set_title('Magnitude plot of the full and SOBTp reduced model')\n",
    "#plot.sho()"
   ]
  },
  {
   "cell_type": "code",
   "execution_count": null,
   "metadata": {},
   "outputs": [],
   "source": [
    "fig, ax = plt.subplots()\n",
    "err_sobtp.mag_plot(w, ax=ax)\n",
    "ax.set_title('Magnitude plot of the SOBTp error system')\n",
    "#plot.sho()"
   ]
  },
  {
   "cell_type": "markdown",
   "metadata": {},
   "source": [
    "## Velocity Second-Order Balanced Truncation (SOBTv)"
   ]
  },
  {
   "cell_type": "code",
   "execution_count": null,
   "metadata": {},
   "outputs": [],
   "source": [
    "r = 5\n",
    "sobtv_reductor = SOBTvReductor(so_sys)\n",
    "rom_sobtv = sobtv_reductor.reduce(r)"
   ]
  },
  {
   "cell_type": "code",
   "execution_count": null,
   "metadata": {},
   "outputs": [],
   "source": [
    "poles_rom_sobtv = rom_sobtv.poles()\n",
    "fig, ax = plt.subplots()\n",
    "ax.plot(poles_rom_sobtv.real, poles_rom_sobtv.imag, '.')\n",
    "ax.set_title(\"SOBTv reduced model's poles\")\n",
    "#plot.sho()"
   ]
  },
  {
   "cell_type": "code",
   "execution_count": null,
   "metadata": {},
   "outputs": [],
   "source": [
    "err_sobtv = so_sys - rom_sobtv\n",
    "print(f'SOBTv relative H_2-error:    {err_sobtv.h2_norm() / so_sys.h2_norm():e}')\n",
    "if config.HAVE_SLYCOT:\n",
    "    print(f'SOBTv relative H_inf-error:  {err_sobtv.hinf_norm() / so_sys.hinf_norm():e}')\n",
    "print(f'SOBTv relative Hankel-error: {err_sobtv.hankel_norm() / so_sys.hankel_norm():e}')"
   ]
  },
  {
   "cell_type": "code",
   "execution_count": null,
   "metadata": {},
   "outputs": [],
   "source": [
    "fig, ax = plt.subplots()\n",
    "so_sys.mag_plot(w, ax=ax)\n",
    "rom_sobtv.mag_plot(w, ax=ax, linestyle='dashed')\n",
    "ax.set_title('Magnitude plot of the full and SOBTv reduced model')\n",
    "#plot.sho()"
   ]
  },
  {
   "cell_type": "code",
   "execution_count": null,
   "metadata": {},
   "outputs": [],
   "source": [
    "fig, ax = plt.subplots()\n",
    "err_sobtv.mag_plot(w, ax=ax)\n",
    "ax.set_title('Magnitude plot of the SOBTv error system')\n",
    "#plot.sho()"
   ]
  },
  {
   "cell_type": "markdown",
   "metadata": {},
   "source": [
    "## Position-Velocity Second-Order Balanced Truncation (SOBTpv)"
   ]
  },
  {
   "cell_type": "code",
   "execution_count": null,
   "metadata": {},
   "outputs": [],
   "source": [
    "r = 5\n",
    "sobtpv_reductor = SOBTpvReductor(so_sys)\n",
    "rom_sobtpv = sobtpv_reductor.reduce(r)"
   ]
  },
  {
   "cell_type": "code",
   "execution_count": null,
   "metadata": {},
   "outputs": [],
   "source": [
    "poles_rom_sobtpv = rom_sobtpv.poles()\n",
    "fig, ax = plt.subplots()\n",
    "ax.plot(poles_rom_sobtpv.real, poles_rom_sobtpv.imag, '.')\n",
    "ax.set_title(\"SOBTpv reduced model's poles\")\n",
    "#plot.sho()"
   ]
  },
  {
   "cell_type": "code",
   "execution_count": null,
   "metadata": {},
   "outputs": [],
   "source": [
    "err_sobtpv = so_sys - rom_sobtpv\n",
    "print(f'SOBTpv relative H_2-error:    {err_sobtpv.h2_norm() / so_sys.h2_norm():e}')\n",
    "if config.HAVE_SLYCOT:\n",
    "    print(f'SOBTpv relative H_inf-error:  {err_sobtpv.hinf_norm() / so_sys.hinf_norm():e}')\n",
    "print(f'SOBTpv relative Hankel-error: {err_sobtpv.hankel_norm() / so_sys.hankel_norm():e}')"
   ]
  },
  {
   "cell_type": "code",
   "execution_count": null,
   "metadata": {},
   "outputs": [],
   "source": [
    "fig, ax = plt.subplots()\n",
    "so_sys.mag_plot(w, ax=ax)\n",
    "rom_sobtpv.mag_plot(w, ax=ax, linestyle='dashed')\n",
    "ax.set_title('Magnitude plot of the full and SOBTpv reduced model')\n",
    "#plot.sho()"
   ]
  },
  {
   "cell_type": "code",
   "execution_count": null,
   "metadata": {},
   "outputs": [],
   "source": [
    "fig, ax = plt.subplots()\n",
    "err_sobtpv.mag_plot(w, ax=ax)\n",
    "ax.set_title('Magnitude plot of the SOBTpv error system')\n",
    "#plot.sho()"
   ]
  },
  {
   "cell_type": "markdown",
   "metadata": {},
   "source": [
    "## Velocity-Position Second-Order Balanced Truncation (SOBTvp)"
   ]
  },
  {
   "cell_type": "code",
   "execution_count": null,
   "metadata": {},
   "outputs": [],
   "source": [
    "r = 5\n",
    "sobtvp_reductor = SOBTvpReductor(so_sys)\n",
    "rom_sobtvp = sobtvp_reductor.reduce(r)"
   ]
  },
  {
   "cell_type": "code",
   "execution_count": null,
   "metadata": {},
   "outputs": [],
   "source": [
    "poles_rom_sobtvp = rom_sobtvp.poles()\n",
    "fig, ax = plt.subplots()\n",
    "ax.plot(poles_rom_sobtvp.real, poles_rom_sobtvp.imag, '.')\n",
    "ax.set_title(\"SOBTvp reduced model's poles\")\n",
    "#plot.sho()"
   ]
  },
  {
   "cell_type": "code",
   "execution_count": null,
   "metadata": {},
   "outputs": [],
   "source": [
    "err_sobtvp = so_sys - rom_sobtvp\n",
    "print(f'SOBTvp relative H_2-error:    {err_sobtvp.h2_norm() / so_sys.h2_norm():e}')\n",
    "if config.HAVE_SLYCOT:\n",
    "    print(f'SOBTvp relative H_inf-error:  {err_sobtvp.hinf_norm() / so_sys.hinf_norm():e}')\n",
    "print(f'SOBTvp relative Hankel-error: {err_sobtvp.hankel_norm() / so_sys.hankel_norm():e}')"
   ]
  },
  {
   "cell_type": "code",
   "execution_count": null,
   "metadata": {},
   "outputs": [],
   "source": [
    "fig, ax = plt.subplots()\n",
    "so_sys.mag_plot(w, ax=ax)\n",
    "rom_sobtvp.mag_plot(w, ax=ax, linestyle='dashed')\n",
    "ax.set_title('Magnitude plot of the full and SOBTvp reduced model')\n",
    "#plot.sho()"
   ]
  },
  {
   "cell_type": "code",
   "execution_count": null,
   "metadata": {},
   "outputs": [],
   "source": [
    "fig, ax = plt.subplots()\n",
    "err_sobtvp.mag_plot(w, ax=ax)\n",
    "ax.set_title('Magnitude plot of the SOBTvp error system')\n",
    "#plot.sho()"
   ]
  },
  {
   "cell_type": "markdown",
   "metadata": {},
   "source": [
    "## Free-Velocity Second-Order Balanced Truncation (SOBTfv)"
   ]
  },
  {
   "cell_type": "code",
   "execution_count": null,
   "metadata": {},
   "outputs": [],
   "source": [
    "r = 5\n",
    "sobtfv_reductor = SOBTfvReductor(so_sys)\n",
    "rom_sobtfv = sobtfv_reductor.reduce(r)"
   ]
  },
  {
   "cell_type": "code",
   "execution_count": null,
   "metadata": {},
   "outputs": [],
   "source": [
    "poles_rom_sobtfv = rom_sobtfv.poles()\n",
    "fig, ax = plt.subplots()\n",
    "ax.plot(poles_rom_sobtfv.real, poles_rom_sobtfv.imag, '.')\n",
    "ax.set_title(\"SOBTfv reduced model's poles\")\n",
    "#plot.sho()"
   ]
  },
  {
   "cell_type": "code",
   "execution_count": null,
   "metadata": {},
   "outputs": [],
   "source": [
    "err_sobtfv = so_sys - rom_sobtfv\n",
    "print(f'SOBTfv relative H_2-error:    {err_sobtfv.h2_norm() / so_sys.h2_norm():e}')\n",
    "if config.HAVE_SLYCOT:\n",
    "    print(f'SOBTfv relative H_inf-error:  {err_sobtfv.hinf_norm() / so_sys.hinf_norm():e}')\n",
    "print(f'SOBTfv relative Hankel-error: {err_sobtfv.hankel_norm() / so_sys.hankel_norm():e}')"
   ]
  },
  {
   "cell_type": "code",
   "execution_count": null,
   "metadata": {},
   "outputs": [],
   "source": [
    "fig, ax = plt.subplots()\n",
    "so_sys.mag_plot(w, ax=ax)\n",
    "rom_sobtfv.mag_plot(w, ax=ax, linestyle='dashed')\n",
    "ax.set_title('Magnitude plot of the full and SOBTfv reduced model')\n",
    "#plot.sho()"
   ]
  },
  {
   "cell_type": "code",
   "execution_count": null,
   "metadata": {},
   "outputs": [],
   "source": [
    "fig, ax = plt.subplots()\n",
    "err_sobtfv.mag_plot(w, ax=ax)\n",
    "ax.set_title('Magnitude plot of the SOBTfv error system')\n",
    "#plot.sho()"
   ]
  },
  {
   "cell_type": "markdown",
   "metadata": {},
   "source": [
    "## Second-Order Balanced Truncation (SOBT)"
   ]
  },
  {
   "cell_type": "code",
   "execution_count": null,
   "metadata": {},
   "outputs": [],
   "source": [
    "r = 5\n",
    "sobt_reductor = SOBTReductor(so_sys)\n",
    "rom_sobt = sobt_reductor.reduce(r)"
   ]
  },
  {
   "cell_type": "code",
   "execution_count": null,
   "metadata": {},
   "outputs": [],
   "source": [
    "poles_rom_sobt = rom_sobt.poles()\n",
    "fig, ax = plt.subplots()\n",
    "ax.plot(poles_rom_sobt.real, poles_rom_sobt.imag, '.')\n",
    "ax.set_title(\"SOBT reduced model's poles\")\n",
    "#plot.sho()"
   ]
  },
  {
   "cell_type": "code",
   "execution_count": null,
   "metadata": {},
   "outputs": [],
   "source": [
    "err_sobt = so_sys - rom_sobt\n",
    "print(f'SOBT relative H_2-error:    {err_sobt.h2_norm() / so_sys.h2_norm():e}')\n",
    "if config.HAVE_SLYCOT:\n",
    "    print(f'SOBT relative H_inf-error:  {err_sobt.hinf_norm() / so_sys.hinf_norm():e}')\n",
    "print(f'SOBT relative Hankel-error: {err_sobt.hankel_norm() / so_sys.hankel_norm():e}')"
   ]
  },
  {
   "cell_type": "code",
   "execution_count": null,
   "metadata": {},
   "outputs": [],
   "source": [
    "fig, ax = plt.subplots()\n",
    "so_sys.mag_plot(w, ax=ax)\n",
    "rom_sobt.mag_plot(w, ax=ax, linestyle='dashed')\n",
    "ax.set_title('Magnitude plot of the full and SOBT reduced model')\n",
    "#plot.sho()"
   ]
  },
  {
   "cell_type": "code",
   "execution_count": null,
   "metadata": {},
   "outputs": [],
   "source": [
    "fig, ax = plt.subplots()\n",
    "err_sobt.mag_plot(w, ax=ax)\n",
    "ax.set_title('Magnitude plot of the SOBT error system')\n",
    "#plot.sho()"
   ]
  },
  {
   "cell_type": "markdown",
   "metadata": {},
   "source": [
    "## Balanced Truncation (BT)"
   ]
  },
  {
   "cell_type": "code",
   "execution_count": null,
   "metadata": {},
   "outputs": [],
   "source": [
    "r = 5\n",
    "bt_reductor = BTReductor(so_sys.to_lti())\n",
    "rom_bt = bt_reductor.reduce(r)"
   ]
  },
  {
   "cell_type": "code",
   "execution_count": null,
   "metadata": {},
   "outputs": [],
   "source": [
    "poles_rom_bt = rom_bt.poles()\n",
    "fig, ax = plt.subplots()\n",
    "ax.plot(poles_rom_bt.real, poles_rom_bt.imag, '.')\n",
    "ax.set_title(\"BT reduced model's poles\")\n",
    "#plot.sho()"
   ]
  },
  {
   "cell_type": "code",
   "execution_count": null,
   "metadata": {},
   "outputs": [],
   "source": [
    "err_bt = so_sys - rom_bt\n",
    "print(f'BT relative H_2-error:    {err_bt.h2_norm() / so_sys.h2_norm():e}')\n",
    "if config.HAVE_SLYCOT:\n",
    "    print(f'BT relative H_inf-error:  {err_bt.hinf_norm() / so_sys.hinf_norm():e}')\n",
    "print(f'BT relative Hankel-error: {err_bt.hankel_norm() / so_sys.hankel_norm():e}')"
   ]
  },
  {
   "cell_type": "code",
   "execution_count": null,
   "metadata": {},
   "outputs": [],
   "source": [
    "fig, ax = plt.subplots()\n",
    "so_sys.mag_plot(w, ax=ax)\n",
    "rom_bt.mag_plot(w, ax=ax, linestyle='dashed')\n",
    "ax.set_title('Magnitude plot of the full and BT reduced model')\n",
    "#plot.sho()"
   ]
  },
  {
   "cell_type": "code",
   "execution_count": null,
   "metadata": {},
   "outputs": [],
   "source": [
    "fig, ax = plt.subplots()\n",
    "err_bt.mag_plot(w, ax=ax)\n",
    "ax.set_title('Magnitude plot of the BT error system')\n",
    "#plot.sho()"
   ]
  },
  {
   "cell_type": "markdown",
   "metadata": {},
   "source": [
    "## Iterative Rational Krylov Algorithm (IRKA)"
   ]
  },
  {
   "cell_type": "code",
   "execution_count": null,
   "metadata": {
    "scrolled": true
   },
   "outputs": [],
   "source": [
    "r = 5\n",
    "irka_reductor = IRKAReductor(so_sys.to_lti())\n",
    "rom_irka = irka_reductor.reduce(r)"
   ]
  },
  {
   "cell_type": "code",
   "execution_count": null,
   "metadata": {},
   "outputs": [],
   "source": [
    "fig, ax = plt.subplots()\n",
    "ax.semilogy(irka_reductor.conv_crit, '.-')\n",
    "ax.set_title('IRKA convergence criterion')\n",
    "#plot.sho()"
   ]
  },
  {
   "cell_type": "code",
   "execution_count": null,
   "metadata": {},
   "outputs": [],
   "source": [
    "poles_rom_irka = rom_irka.poles()\n",
    "fig, ax = plt.subplots()\n",
    "ax.plot(poles_rom_irka.real, poles_rom_irka.imag, '.')\n",
    "ax.set_title(\"IRKA reduced model's poles\")\n",
    "#plot.sho()"
   ]
  },
  {
   "cell_type": "code",
   "execution_count": null,
   "metadata": {},
   "outputs": [],
   "source": [
    "err_irka = so_sys - rom_irka\n",
    "print(f'IRKA relative H_2-error:    {err_irka.h2_norm() / so_sys.h2_norm():e}')\n",
    "if config.HAVE_SLYCOT:\n",
    "    print(f'IRKA relative H_inf-error:  {err_irka.hinf_norm() / so_sys.hinf_norm():e}')\n",
    "print(f'IRKA relative Hankel-error: {err_irka.hankel_norm() / so_sys.hankel_norm():e}')"
   ]
  },
  {
   "cell_type": "code",
   "execution_count": null,
   "metadata": {},
   "outputs": [],
   "source": [
    "fig, ax = plt.subplots()\n",
    "so_sys.mag_plot(w, ax=ax)\n",
    "rom_irka.mag_plot(w, ax=ax, linestyle='dashed')\n",
    "ax.set_title('Magnitude plot of the full and IRKA reduced model')\n",
    "#plot.sho()"
   ]
  },
  {
   "cell_type": "code",
   "execution_count": null,
   "metadata": {},
   "outputs": [],
   "source": [
    "fig, ax = plt.subplots()\n",
    "err_irka.mag_plot(w, ax=ax)\n",
    "ax.set_title('Magnitude plot of the IRKA error system')\n",
    "#plot.sho()"
   ]
  },
  {
   "cell_type": "markdown",
   "metadata": {},
   "source": [
    "## Second-Order Iterative Rational Krylov Algorithm (SOR-IRKA)"
   ]
  },
  {
   "cell_type": "code",
   "execution_count": null,
   "metadata": {
    "scrolled": true
   },
   "outputs": [],
   "source": [
    "r = 5\n",
    "sor_irka_reductor = SORIRKAReductor(so_sys)\n",
    "rom_sor_irka = sor_irka_reductor.reduce(r)"
   ]
  },
  {
   "cell_type": "code",
   "execution_count": null,
   "metadata": {},
   "outputs": [],
   "source": [
    "fig, ax = plt.subplots()\n",
    "ax.semilogy(sor_irka_reductor.conv_crit, '.-')\n",
    "ax.set_title('SOR-IRKA convergence criterion')\n",
    "#plot.sho()"
   ]
  },
  {
   "cell_type": "code",
   "execution_count": null,
   "metadata": {},
   "outputs": [],
   "source": [
    "poles_rom_sor_irka = rom_sor_irka.poles()\n",
    "fig, ax = plt.subplots()\n",
    "ax.plot(poles_rom_sor_irka.real, poles_rom_sor_irka.imag, '.')\n",
    "ax.set_title(\"SOR-IRKA reduced model's poles\")\n",
    "#plot.sho()"
   ]
  },
  {
   "cell_type": "code",
   "execution_count": null,
   "metadata": {},
   "outputs": [],
   "source": [
    "err_sor_irka = so_sys - rom_sor_irka\n",
    "print(f'SOR-IRKA relative H_2-error:    {err_sor_irka.h2_norm() / so_sys.h2_norm():e}')\n",
    "if config.HAVE_SLYCOT:\n",
    "    print(f'SOR-IRKA relative H_inf-error:  {err_sor_irka.hinf_norm() / so_sys.hinf_norm():e}')\n",
    "print(f'SOR-IRKA relative Hankel-error: {err_sor_irka.hankel_norm() / so_sys.hankel_norm():e}')"
   ]
  },
  {
   "cell_type": "code",
   "execution_count": null,
   "metadata": {},
   "outputs": [],
   "source": [
    "fig, ax = plt.subplots()\n",
    "so_sys.mag_plot(w, ax=ax)\n",
    "rom_sor_irka.mag_plot(w, ax=ax, linestyle='dashed')\n",
    "ax.set_title('Magnitude plot of the full and SOR-IRKA reduced model')\n",
    "#plot.sho()"
   ]
  },
  {
   "cell_type": "code",
   "execution_count": null,
   "metadata": {},
   "outputs": [],
   "source": [
    "fig, ax = plt.subplots()\n",
    "err_sor_irka.mag_plot(w, ax=ax)\n",
    "ax.set_title('Magnitude plot of the SOR-IRKA error system')\n",
    "#plot.sho()"
   ]
  }
 ],
 "metadata": {
  "kernelspec": {
   "display_name": "Python 3",
   "language": "python",
   "name": "python3"
  },
  "language_info": {
   "codemirror_mode": {
    "name": "ipython",
    "version": 3
   },
   "file_extension": ".py",
   "mimetype": "text/x-python",
   "name": "python",
   "nbconvert_exporter": "python",
   "pygments_lexer": "ipython3",
   "version": "3.6.8"
  }
 },
 "nbformat": 4,
 "nbformat_minor": 1
}
